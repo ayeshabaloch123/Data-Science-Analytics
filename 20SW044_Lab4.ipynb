{
  "nbformat": 4,
  "nbformat_minor": 0,
  "metadata": {
    "colab": {
      "provenance": [],
      "authorship_tag": "ABX9TyMCrV41vX1BA38GTv3QCB0t",
      "include_colab_link": true
    },
    "kernelspec": {
      "name": "python3",
      "display_name": "Python 3"
    },
    "language_info": {
      "name": "python"
    }
  },
  "cells": [
    {
      "cell_type": "markdown",
      "metadata": {
        "id": "view-in-github",
        "colab_type": "text"
      },
      "source": [
        "<a href=\"https://colab.research.google.com/github/ayeshabaloch123/Data-Science-Analytics/blob/main/20SW044_Lab4.ipynb\" target=\"_parent\"><img src=\"https://colab.research.google.com/assets/colab-badge.svg\" alt=\"Open In Colab\"/></a>"
      ]
    },
    {
      "cell_type": "code",
      "execution_count": null,
      "metadata": {
        "colab": {
          "base_uri": "https://localhost:8080/"
        },
        "id": "Vr-4DDI_htoK",
        "outputId": "957c11f0-44c0-4942-d142-774164902194"
      },
      "outputs": [
        {
          "output_type": "stream",
          "name": "stdout",
          "text": [
            "[[ 2  4  6  8]\n",
            " [10 12 14 16]\n",
            " [18 20 22 24]\n",
            " [26 28 30 32]]\n"
          ]
        }
      ],
      "source": [
        "             ###TASK___1#############\n",
        "import numpy as np\n",
        "\n",
        "X = np.arange(2, 33, 2).reshape(4, 4)\n",
        "print(X)"
      ]
    },
    {
      "cell_type": "code",
      "source": [
        "             ###TASK___2#############\n",
        "import numpy as np\n",
        "X = np.arange(1, 26).reshape(5, 5)\n",
        "Y = X[X % 2 != 0]\n",
        "\n",
        "print(\"Original Array:\\n\", X)\n",
        "print(\"\\nOdd Numbers Array:\\n\", Y)"
      ],
      "metadata": {
        "colab": {
          "base_uri": "https://localhost:8080/"
        },
        "id": "8f4Qj-Alh6Kq",
        "outputId": "147262e2-9552-4e1f-8f9b-bc469e1bdebf"
      },
      "execution_count": null,
      "outputs": [
        {
          "output_type": "stream",
          "name": "stdout",
          "text": [
            "Original Array:\n",
            " [[ 1  2  3  4  5]\n",
            " [ 6  7  8  9 10]\n",
            " [11 12 13 14 15]\n",
            " [16 17 18 19 20]\n",
            " [21 22 23 24 25]]\n",
            "\n",
            "Odd Numbers Array:\n",
            " [ 1  3  5  7  9 11 13 15 17 19 21 23 25]\n"
          ]
        }
      ]
    },
    {
      "cell_type": "code",
      "source": [
        "             ###TASK___3#############\n",
        "import numpy as np\n",
        "\n",
        "\n",
        "X = np.arange(1, 5).reshape(4, 1) * np.ones((1, 4))\n",
        "\n",
        "print(X)"
      ],
      "metadata": {
        "colab": {
          "base_uri": "https://localhost:8080/"
        },
        "id": "f6EMY5m3iP8U",
        "outputId": "0545f674-ae5e-4517-ca20-f27a3e351833"
      },
      "execution_count": null,
      "outputs": [
        {
          "output_type": "stream",
          "name": "stdout",
          "text": [
            "[[1. 1. 1. 1.]\n",
            " [2. 2. 2. 2.]\n",
            " [3. 3. 3. 3.]\n",
            " [4. 4. 4. 4.]]\n"
          ]
        }
      ]
    },
    {
      "cell_type": "code",
      "source": [
        "             ###TASK___4#############\n",
        "import numpy as np\n",
        "\n",
        "# Create a 1000x20 ndarray with random integers in the range [0, 5001)\n",
        "X = np.random.randint(0, 5001, size=(1000, 20))\n",
        "# Print the shape of X\n",
        "print(X.shape)\n",
        "\n",
        "# Calculate the average of the values in each column of X\n",
        "ave_cols = np.mean(X, axis=0)\n",
        "\n",
        "# Calculate the standard deviation of the values in each column of X\n",
        "std_cols = np.std(X, axis=0)\n",
        "\n",
        "\n",
        "print(\"Shape of ave_cols:\", ave_cols.shape)\n",
        "print(\"Shape of std_cols:\", std_cols.shape)\n",
        "\n",
        "# Mean normalize X\n",
        "X_norm = (X - ave_cols) / std_cols\n",
        "\n",
        "print(\"Mean normalized X:\")\n",
        "print(X_norm)\n",
        "\n",
        "# Print the average of all the values of X_norm\n",
        "ave_all_values = np.mean(X_norm)\n",
        "print(\"Average of all values in X_norm:\", ave_all_values)\n",
        "\n",
        "# Print the average of the minimum value in each column of X_norm\n",
        "ave_min_values = np.mean(np.min(X_norm, axis=0))\n",
        "print(\"Average of minimum values in each column of X_norm:\", ave_min_values)\n",
        "\n",
        "# Print the average of the maximum value in each column of X_norm\n",
        "ave_max_values = np.mean(np.max(X_norm, axis=0))\n",
        "print(\"Average of maximum values in each column of X_norm:\", ave_max_values)\n",
        "\n",
        "# We create a random permutation of integers 0 to 4\n",
        "np.random.permutation(5)\n",
        "\n",
        "# Create a random permutation of row indices of X_norm\n",
        "row_indices = np.random.permutation(X_norm.shape[0])\n",
        "\n",
        "print(\"Random permutation of row indices:\", row_indices)\n",
        "\n",
        "\n",
        "# Define the ratios for training, cross-validation, and test sets\n",
        "train_ratio = 0.6\n",
        "cross_val_ratio = 0.2\n",
        "test_ratio = 0.2\n",
        "\n",
        "# Calculate the sizes of each set based on the ratios\n",
        "num_rows = X_norm.shape[0]\n",
        "num_train = int(train_ratio * num_rows)\n",
        "num_cross_val = int(cross_val_ratio * num_rows)\n",
        "num_test = int(test_ratio * num_rows)\n",
        "\n",
        "# Use row_indices to split the data into sets\n",
        "X_train = X_norm[row_indices[:num_train]]\n",
        "X_crossVal = X_norm[row_indices[num_train:num_train + num_cross_val]]\n",
        "X_test = X_norm[row_indices[num_train + num_cross_val:]]\n",
        "\n",
        "print(\"X_train shape:\", X_train.shape)\n",
        "print(\"X_crossVal shape:\", X_crossVal.shape)\n",
        "print(\"X_test shape:\", X_test.shape)"
      ],
      "metadata": {
        "colab": {
          "base_uri": "https://localhost:8080/"
        },
        "id": "pnqyrE4CiYic",
        "outputId": "f3b86aa2-d700-402e-96f9-1c841a1d7dbd"
      },
      "execution_count": null,
      "outputs": [
        {
          "output_type": "stream",
          "name": "stdout",
          "text": [
            "(1000, 20)\n",
            "Shape of ave_cols: (20,)\n",
            "Shape of std_cols: (20,)\n",
            "Mean normalized X:\n",
            "[[-1.42796080e+00 -2.07210792e-01  1.24015759e+00 ... -1.53969796e-01\n",
            "   2.66977802e-01 -1.24564912e-01]\n",
            " [ 1.16170573e+00 -8.25174993e-02  8.27274724e-01 ...  1.03987702e+00\n",
            "  -7.05038714e-01 -3.67190688e-01]\n",
            " [ 1.09991623e+00  1.23703899e+00 -1.38038469e+00 ...  3.92675722e-01\n",
            "   4.93234811e-01  1.01374852e+00]\n",
            " ...\n",
            " [-1.63117960e+00 -2.47633343e-01 -6.00260770e-01 ...  8.44839299e-01\n",
            "  -6.40100902e-01 -8.69922482e-01]\n",
            " [ 4.63484401e-01 -2.87370766e-01  1.65936010e+00 ... -1.46524417e+00\n",
            "  -3.53007416e-01  1.28644032e+00]\n",
            " [-6.23387384e-04 -1.16159407e+00  4.60735852e-01 ...  9.27848433e-01\n",
            "   1.54044248e+00 -1.41041160e+00]]\n",
            "Average of all values in X_norm: 1.2079226507921702e-17\n",
            "Average of minimum values in each column of X_norm: -1.729619245813326\n",
            "Average of maximum values in each column of X_norm: 1.723623751799693\n",
            "Random permutation of row indices: [507 684 464 288 191 449 501   9 779 714 290 130 674 886 647 105 140  86\n",
            " 240 631 597 558 940 428 884 399 186 489 315 803 372 421 704 502 184 374\n",
            " 256 366  53 854 945 750 953 831 138 851 365  10 297 102 821 815 236  47\n",
            "  80 676 180  12 432 999 989 511 592 384 635 462 860  43 664 357 698  16\n",
            "  99 422 824 420 817  96 983 265 903 655 536 515 993 303 246 935 814 911\n",
            " 466  33 121 621 247 914  45 853 200 540 235 169 277 917 524 279 982 465\n",
            " 131 157 744 543 202 339 300  72 217 221 542 668 715  36 477 478 745 211\n",
            " 628 639 509 781 767 139 838 978 617 164 342 946 394 966  52 841 319 840\n",
            " 141 667 916 289 398 192 259 963 204 112 996 968  63 984 643 627 802 285\n",
            " 212 187 264 972 376 680 207 455  46 987 808 314 239 736 526  77 347 510\n",
            " 648 665 711 268 363 469 741 581  67 868  98 411 263 229 942 167 748  91\n",
            " 493 777 901 566 764 433 513 691 390 209 975 206 114 304 546 582 468 894\n",
            " 234 603 196 226 567 354  18 369 557 696 678 280 494 770 875 537 813 737\n",
            " 955 162  83 447 387 424 237 789  37 941 544 641  22 753 728 640  49 135\n",
            " 949 325 134 920 269 979 498 228 490 294 605 661 721 837 723 383 258 936\n",
            " 881 595 697 198 578 671 122 733 517 470 694 569 425 431 986 708 710 385\n",
            " 614 132 472 533  39 337 897 760 890 552 444 380 660 291 219 938 724 381\n",
            " 512 252 168 148 448 445 495 446 806 735 866 208 103 452 746 375 793 589\n",
            " 583 626 361 497 757 496 463 896 586 591 662 899 847 346 133 755 836 479\n",
            "   8 355 611 864 828  70 364 482 484 322 250 683 320 475 584 281 243 574\n",
            " 762 927 238 929 508 926 672 318 190 937 430 155 725 527 232 845 717 242\n",
            " 559 787  93 602 707 360 156  88 689 794 818 181 771 500 461 878 120 483\n",
            " 816  25  35 487 650 529 967 467 869 218 932 688 575 538 260 313 101 992\n",
            "  76 965 783 392 310 800 547 604 848 272 695 649 616 693 123 182 644  62\n",
            " 909 888 223 826 646 928 305 729   1 362 842  71 898 161 386 301 403 788\n",
            " 960 918 573 908 153 151 110 147 146 402  41 835 503 910 417 170 335 677\n",
            " 846 230 367 974 450 409 690  57 902  42 600 299 954 773 351 368 113  89\n",
            " 882 727 564 731 492  73 323  69 321 752 607 570 327 427  54 863 756 437\n",
            " 453 215 284 961 213 758 921   0 998 149 396 220 579 341 876 625 329 521\n",
            "  17 283 730 251 231 178 790 623 438  20  21 316 925 785  85 352 590 798\n",
            " 328 195 128 443 615 673 276 126 344 682 825 485 891 830 718 630 706 865\n",
            " 356  90 923  11  60 293 759 823 964 311 152 985 222 957 397 193 555 839\n",
            " 634 580 776 159 248 273 556 870 873 519 117  66 518 353 577  79 859 740\n",
            " 119 125 608 879 658 350 797 104 599 275 499 782 199 669 610  55 976 905\n",
            " 732 426 379 423 473  87 109 749 441 612 565  29 606 784 858 651  27 525\n",
            " 160 796 613 456 270 274 912 560  56 906 895  75 174 572 471 653 867 144\n",
            " 663 480 588 179 295 739 528 915 705 457 561 481 609 210 201 679 919 271\n",
            "  78 807 930 306  23 338 348 391 775 805 889 257 952 593 924 359  34 158\n",
            " 810 522 124 429 287 637 545 413 856 754 129 532 150 829 642 377 520 100\n",
            " 670 332 761  94 778 370 458 183   7 176 980 340 405 654 883 792 254 852\n",
            " 997 410 636 286 804 981 619 849 241 712 700 253  50 931 262 833 401 163\n",
            " 451 809 962 142 127 233 990  84 373  28 722 382 687 414 747 774 977 939\n",
            " 713 659 188  68 116 334  15 765 393 681 995 734 907 436 331 795 799 395\n",
            " 516 292  51 971 562 173 549 819 145 988 877 166 763 716  24 244  26 216\n",
            "  31 686 136 638 887  97 948 439 214 822 620 900  48 531 378 541 701 434\n",
            " 832 959 801 171 506 172 633 324  82 227 554 296 245 632 175 587 539 185\n",
            " 820 267 702 412 548 407 389 692 652 844 563   3 571 282 505 743  95  44\n",
            " 738 400 523 827 812 177 474 598 488 189 330 534 388  38 415 419 861 106\n",
            " 934 857 476 973 596 791 530  64  58 491 143 786 225 317  65 551 913 622\n",
            " 460 137   5 950  92 349 442 951 345   6 742 309 535 486 768 991 553 154\n",
            " 666  32 118 850 656 261 751 459 719 358 312  30 108 709 970 205 892 404\n",
            "   4 266 308  61 944 585 872 326 408 576 880   2 862 594 418 811 568 645\n",
            " 933 657 834 699 871 298 956 249 843 440 255  14 904 435 336 958  81 224\n",
            " 947 720 855 107 203 550 416  19 165  59 766 514 504 769 703 874 624 194\n",
            " 893 406 629 343 943 885  13 618  74 675 772 371 307 685 726 780 197 922\n",
            " 278  40 302 969 454 333 601 115 111 994]\n",
            "X_train shape: (600, 20)\n",
            "X_crossVal shape: (200, 20)\n",
            "X_test shape: (200, 20)\n"
          ]
        }
      ]
    }
  ]
}