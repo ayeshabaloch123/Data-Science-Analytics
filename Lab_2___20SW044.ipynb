{
  "nbformat": 4,
  "nbformat_minor": 0,
  "metadata": {
    "colab": {
      "provenance": [],
      "authorship_tag": "ABX9TyNlRZyU6XZJjPIuAiTkDbl5",
      "include_colab_link": true
    },
    "kernelspec": {
      "name": "python3",
      "display_name": "Python 3"
    },
    "language_info": {
      "name": "python"
    }
  },
  "cells": [
    {
      "cell_type": "markdown",
      "metadata": {
        "id": "view-in-github",
        "colab_type": "text"
      },
      "source": [
        "<a href=\"https://colab.research.google.com/github/ayeshabaloch123/Data-Science-Analytics/blob/main/Lab_2___20SW044.ipynb\" target=\"_parent\"><img src=\"https://colab.research.google.com/assets/colab-badge.svg\" alt=\"Open In Colab\"/></a>"
      ]
    },
    {
      "cell_type": "code",
      "execution_count": 1,
      "metadata": {
        "colab": {
          "base_uri": "https://localhost:8080/"
        },
        "id": "SXntcfsz8Dcr",
        "outputId": "79226d25-08c1-4555-983e-6bf80e602a7c"
      },
      "outputs": [
        {
          "output_type": "stream",
          "name": "stdout",
          "text": [
            "52\n",
            "Oh dear!! No prize\n"
          ]
        }
      ],
      "source": [
        "                   #Task_1#\n",
        "prize = int(input())\n",
        "\n",
        "if prize >= 1 and prize <= 50:\n",
        "    print('Congratulations! you won the Wooden rabbit')\n",
        "elif prize > 50 and prize <= 150:\n",
        "    print('Oh dear!! No prize')\n",
        "elif prize > 150 and prize <= 180:\n",
        "    print('Congratulations! you won the Wafer-thin mint')\n",
        "elif prize > 180 and prize <= 200:\n",
        "    print('Congratulations! you won the Penguin')\n",
        "else:\n",
        "    print('Wrong input')"
      ]
    },
    {
      "cell_type": "code",
      "source": [
        "             #Task_2#\n",
        "answer = 44\n",
        "\n",
        "guess = int(input(\"Enter your guess: \"))\n",
        "if guess < answer:\n",
        "    print(\"Your guess is too low.\")\n",
        "elif guess > answer:\n",
        "    print(\"Your guess is too high.\")\n",
        "else:\n",
        "    print(\"Congratulations! Your guess matched!\")\n"
      ],
      "metadata": {
        "colab": {
          "base_uri": "https://localhost:8080/"
        },
        "id": "hM3k8dRm8k0m",
        "outputId": "79bdf398-54e6-43d3-e69c-5aca28a9e240"
      },
      "execution_count": 2,
      "outputs": [
        {
          "output_type": "stream",
          "name": "stdout",
          "text": [
            "Enter your guess: 22\n",
            "Your guess is too low.\n"
          ]
        }
      ]
    },
    {
      "cell_type": "code",
      "source": [
        "            #Task_3\n",
        "\n",
        "def calculate_tax(purchase_amount, state):\n",
        "    # Define tax rates for different states\n",
        "    tax_rates = {\n",
        "        'CA': 0.075,\n",
        "        'MN': 0.095,\n",
        "        'NY': 0.089\n",
        "    }\n",
        "\n",
        "    # Check if the state is in the tax_rates dictionary\n",
        "    if state in tax_rates:\n",
        "        tax_rate = tax_rates[state]\n",
        "        tax_amount = purchase_amount * tax_rate\n",
        "        total_amount = purchase_amount + tax_amount\n",
        "        print(f\"Purchase amount: ${purchase_amount:.2f}\")\n",
        "        print(f\"Tax rate in {state}: {tax_rate * 100:.1f}%\")\n",
        "        print(f\"Tax amount: ${tax_amount:.2f}\")\n",
        "        print(f\"Total amount after tax: ${total_amount:.2f}\")\n",
        "    else:\n",
        "        print(\"Invalid state. Please enter a valid state code (CA, MN, or NY).\")\n",
        "\n",
        "purchase_amount = float(input(\"Enter the purchase amount: $\"))\n",
        "state = input(\"Enter your state (CA, MN, or NY): \")\n",
        "\n",
        "calculate_tax(purchase_amount, state)"
      ],
      "metadata": {
        "colab": {
          "base_uri": "https://localhost:8080/"
        },
        "id": "Pweeai-z81yd",
        "outputId": "960e123c-01fd-40e2-8cab-09d641e4bac9"
      },
      "execution_count": 3,
      "outputs": [
        {
          "output_type": "stream",
          "name": "stdout",
          "text": [
            "Enter the purchase amount: $56\n",
            "Enter your state (CA, MN, or NY): CA\n",
            "Purchase amount: $56.00\n",
            "Tax rate in CA: 7.5%\n",
            "Tax amount: $4.20\n",
            "Total amount after tax: $60.20\n"
          ]
        }
      ]
    },
    {
      "cell_type": "code",
      "source": [
        "                 #Task_4#\n",
        "my_list = [\"ram\",\"santosh\",\"laxshman\",\"bheemraj\",\"arjun\"]\n",
        "\n",
        "for element in my_list:\n",
        "    print(element)"
      ],
      "metadata": {
        "colab": {
          "base_uri": "https://localhost:8080/"
        },
        "id": "zgdRFuZQ9LvC",
        "outputId": "74e72769-404d-43e7-a5b1-108222fbe8f6"
      },
      "execution_count": 4,
      "outputs": [
        {
          "output_type": "stream",
          "name": "stdout",
          "text": [
            "ram\n",
            "santosh\n",
            "laxshman\n",
            "bheemraj\n",
            "arjun\n"
          ]
        }
      ]
    },
    {
      "cell_type": "code",
      "source": [
        "                     #Task_5\n",
        "# Multiples of 5\n",
        "for number in range(5, 31, 5):\n",
        "    print(number)"
      ],
      "metadata": {
        "colab": {
          "base_uri": "https://localhost:8080/"
        },
        "id": "ErQKKGKm9ae-",
        "outputId": "6350c829-f0a8-4ccc-b410-ff972e147517"
      },
      "execution_count": 5,
      "outputs": [
        {
          "output_type": "stream",
          "name": "stdout",
          "text": [
            "5\n",
            "10\n",
            "15\n",
            "20\n",
            "25\n",
            "30\n"
          ]
        }
      ]
    },
    {
      "cell_type": "code",
      "source": [
        "               #Task_6#\n",
        "\n",
        "names = [\"Ayesha ali\", \"Hira khuwaja\", \"Shiza\", \"Kubra\"]\n",
        "\n",
        "# List comprehension to extract first names in lowercase\n",
        "first_names = [name.split()[0].lower() for name in names]\n",
        "\n",
        "# Printing the result\n",
        "print(first_names)"
      ],
      "metadata": {
        "colab": {
          "base_uri": "https://localhost:8080/"
        },
        "id": "v_gMuRxq9TPX",
        "outputId": "9cb6e4e1-fb26-4ad5-997b-f2c85b995087"
      },
      "execution_count": 6,
      "outputs": [
        {
          "output_type": "stream",
          "name": "stdout",
          "text": [
            "['ayesha', 'hira', 'shiza', 'kubra']\n"
          ]
        }
      ]
    },
    {
      "cell_type": "code",
      "source": [
        "              #Task_7#\n",
        "multiples_3 = [3 * i for i in range(1, 21)]\n",
        "print(multiples_3)"
      ],
      "metadata": {
        "colab": {
          "base_uri": "https://localhost:8080/"
        },
        "id": "3HpNBj4R9xB9",
        "outputId": "29c07062-1bfe-42dd-d620-7fffaf66b621"
      },
      "execution_count": 7,
      "outputs": [
        {
          "output_type": "stream",
          "name": "stdout",
          "text": [
            "[3, 6, 9, 12, 15, 18, 21, 24, 27, 30, 33, 36, 39, 42, 45, 48, 51, 54, 57, 60]\n"
          ]
        }
      ]
    },
    {
      "cell_type": "code",
      "source": [
        "                  #Task_8#\n",
        "scores = {\"Rick Sanchez\": 70, \"Morty Smith\": 35, \"Summer Smith\": 82, \"Jerry Smith\": 23, \"Beth Smith\": 98}\n",
        "\n",
        "passed = [name for name, score in scores.items() if score >= 65]\n",
        "\n",
        "print(passed)\n"
      ],
      "metadata": {
        "colab": {
          "base_uri": "https://localhost:8080/"
        },
        "id": "lPmS7ZbA-AmG",
        "outputId": "7d5ef8ad-ef12-418c-b0c0-e0d0c896a8b5"
      },
      "execution_count": 8,
      "outputs": [
        {
          "output_type": "stream",
          "name": "stdout",
          "text": [
            "['Rick Sanchez', 'Summer Smith', 'Beth Smith']\n"
          ]
        }
      ]
    },
    {
      "cell_type": "code",
      "source": [
        "                        #Task_9#\n",
        "names = [\"Ali\", \"Anas\", \"Zaid\", \"Zohaib\", \"Anand\"]\n",
        "heights = [165, 180, 175, 170, 160]\n",
        "\n",
        "cast = dict(zip(names, heights))\n",
        "\n",
        "print(cast)"
      ],
      "metadata": {
        "colab": {
          "base_uri": "https://localhost:8080/"
        },
        "id": "Vx0ieaSe-K07",
        "outputId": "d68e0235-efea-4212-a44e-71e76b71511d"
      },
      "execution_count": 9,
      "outputs": [
        {
          "output_type": "stream",
          "name": "stdout",
          "text": [
            "{'Ali': 165, 'Anas': 180, 'Zaid': 175, 'Zohaib': 170, 'Anand': 160}\n"
          ]
        }
      ]
    },
    {
      "cell_type": "code",
      "source": [
        "                                   # Task_10#\n",
        "cast = {'Ayesha ': 165, 'Kubra ': 180, 'Shiza ': 175, 'Dhani ': 170, 'Amina ': 160}\n",
        "modified_cast = [name + str(height) for name, height in cast.items()]\n",
        "\n",
        "print(modified_cast)"
      ],
      "metadata": {
        "colab": {
          "base_uri": "https://localhost:8080/"
        },
        "id": "ymNNNcNG-hIb",
        "outputId": "0cffe580-6c1a-4fa3-9279-2e417eb1d139"
      },
      "execution_count": 10,
      "outputs": [
        {
          "output_type": "stream",
          "name": "stdout",
          "text": [
            "['Ayesha 165', 'Kubra 180', 'Shiza 175', 'Dhani 170', 'Amina 160']\n"
          ]
        }
      ]
    }
  ]
}