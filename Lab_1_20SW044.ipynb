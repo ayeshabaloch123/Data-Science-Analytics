{
  "nbformat": 4,
  "nbformat_minor": 0,
  "metadata": {
    "colab": {
      "provenance": []
    },
    "kernelspec": {
      "name": "python3",
      "display_name": "Python 3"
    },
    "language_info": {
      "name": "python"
    }
  },
  "cells": [
    {
      "cell_type": "code",
      "execution_count": 1,
      "metadata": {
        "colab": {
          "base_uri": "https://localhost:8080/"
        },
        "id": "Z2ZNU0b-NQ2B",
        "outputId": "4a2f4ac7-78ef-43b0-b02d-b4a615b4162e"
      },
      "outputs": [
        {
          "output_type": "stream",
          "name": "stdout",
          "text": [
            "My name is Ayesha Ali\n"
          ]
        }
      ],
      "source": [
        "#Task_1\n",
        "\n",
        "name1 = \"Ayesha\"\n",
        "name2 = \"Ali\"\n",
        "print(\"My name is {} {}.\".format(name1, name2))\n",
        "\n"
      ]
    },
    {
      "cell_type": "code",
      "source": [
        "#Task_2\n",
        "'BANANA'.isupper()\n",
        "'banana'.isupper()\n",
        "'1 2 3'.split()\n"
      ],
      "metadata": {
        "colab": {
          "base_uri": "https://localhost:8080/"
        },
        "id": "Rr9mAJAEOdTp",
        "outputId": "cc3b6785-30de-48a5-8af7-bd7dc41603c8"
      },
      "execution_count": 8,
      "outputs": [
        {
          "output_type": "execute_result",
          "data": {
            "text/plain": [
              "['1', '2', '3']"
            ]
          },
          "metadata": {},
          "execution_count": 8
        }
      ]
    },
    {
      "cell_type": "code",
      "source": [
        "#Task_3\n",
        "month = 8\n",
        "days_in_month = [31, 28, 31, 30, 31, 30, 31, 31, 30, 31, 30, 31]\n",
        "\n",
        "num_days = days_in_month[month - 1]\n",
        "print(num_days)\n"
      ],
      "metadata": {
        "colab": {
          "base_uri": "https://localhost:8080/"
        },
        "id": "31fR1JeqP34b",
        "outputId": "b92dafc2-e0f5-40eb-f226-06b94fe41c3e"
      },
      "execution_count": 9,
      "outputs": [
        {
          "output_type": "stream",
          "name": "stdout",
          "text": [
            "31\n"
          ]
        }
      ]
    },
    {
      "cell_type": "code",
      "source": [
        "#Task_4\n",
        "\n",
        "eclipse_dates = ['June 21, 2001', 'December 4, 2002', 'November 23, 2003', 'March 29, 2006', 'August 1, 2008', 'July 22, 2009', 'July 11, 2010', 'November 13, 2012', 'March 20, 2015', 'March 9, 2016']\n",
        "\n",
        "recent_dates = eclipse_dates[-3:]\n",
        "print(recent_dates)\n"
      ],
      "metadata": {
        "colab": {
          "base_uri": "https://localhost:8080/"
        },
        "id": "E5ccZ8fJPFdD",
        "outputId": "ee0b1ac9-6b1e-45bb-c9cf-02c2210b0a6c"
      },
      "execution_count": 15,
      "outputs": [
        {
          "output_type": "stream",
          "name": "stdout",
          "text": [
            "['November 13, 2012', 'March 20, 2015', 'March 9, 2016']\n"
          ]
        }
      ]
    },
    {
      "cell_type": "code",
      "source": [
        "#Task_5\n",
        "\n",
        "students_data = {\n",
        "    'student1': {\n",
        "        'name': 'Ayesha',\n",
        "        'age': 20,\n",
        "        'grade': 'A'\n",
        "    },\n",
        "    'student2': {\n",
        "        'name': 'Shiza',\n",
        "        'age': 22,\n",
        "        'grade': 'B+'\n",
        "    },\n",
        "    'student3': {\n",
        "        'name': 'Kubra',\n",
        "        'age': 21,\n",
        "        'grade': 'A-'\n",
        "    }\n",
        "}\n",
        "\n",
        "# Accessing student2's name\n",
        "student2_name = students_data['student2']['name']\n",
        "print(student2_name)  # Output: Shiza\n",
        "\n",
        "# Accessing student3's age\n",
        "student3_age = students_data['student3']['age']\n",
        "print(student3_age)  # Output: 21\n"
      ],
      "metadata": {
        "colab": {
          "base_uri": "https://localhost:8080/"
        },
        "id": "wAJ1NdE1RhMe",
        "outputId": "7f4134f8-e3cc-493d-affd-654748eb7a77"
      },
      "execution_count": 16,
      "outputs": [
        {
          "output_type": "stream",
          "name": "stdout",
          "text": [
            "Shiza\n",
            "21\n"
          ]
        }
      ]
    }
  ]
}