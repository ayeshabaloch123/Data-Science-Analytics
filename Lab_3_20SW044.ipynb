{
  "nbformat": 4,
  "nbformat_minor": 0,
  "metadata": {
    "colab": {
      "provenance": [],
      "mount_file_id": "1HBbiiyvRnVQSWPAYXy9RnVHZl3FyNNh7",
      "authorship_tag": "ABX9TyNRz/ZicUTGAcpYyQgUZzEM",
      "include_colab_link": true
    },
    "kernelspec": {
      "name": "python3",
      "display_name": "Python 3"
    },
    "language_info": {
      "name": "python"
    }
  },
  "cells": [
    {
      "cell_type": "markdown",
      "metadata": {
        "id": "view-in-github",
        "colab_type": "text"
      },
      "source": [
        "<a href=\"https://colab.research.google.com/github/ayeshabaloch123/Data-Science-Analytics/blob/main/Lab_3_20SW044.ipynb\" target=\"_parent\"><img src=\"https://colab.research.google.com/assets/colab-badge.svg\" alt=\"Open In Colab\"/></a>"
      ]
    },
    {
      "cell_type": "code",
      "execution_count": null,
      "metadata": {
        "colab": {
          "base_uri": "https://localhost:8080/"
        },
        "id": "DhdJFKMNiKb3",
        "outputId": "5c167fa4-2b5c-44f2-ec4c-f1aa3099067d"
      },
      "outputs": [
        {
          "output_type": "execute_result",
          "data": {
            "text/plain": [
              "7123.690280065897"
            ]
          },
          "metadata": {},
          "execution_count": 5
        }
      ],
      "source": [
        "                ###To become familiar with functions and script in Python###\n",
        "\n",
        "##Task_1\n",
        "\n",
        "def population_density(population,land_area):\n",
        "     return population / land_area;\n",
        "\n",
        "population_density(864816, 121.4)"
      ]
    },
    {
      "cell_type": "code",
      "source": [
        "##Task_2\n",
        "\n",
        "def readable_timedelta(days):\n",
        "  weeks = days // 7\n",
        "  remaining_days = days % 7\n",
        "  return f\"{weeks} week(s) and {remaining_days} day(s).\"\n",
        "readable_timedelta(10)"
      ],
      "metadata": {
        "colab": {
          "base_uri": "https://localhost:8080/",
          "height": 36
        },
        "id": "L3udR9gvkrMu",
        "outputId": "5d8a605e-722e-4f7f-84c6-5ff19de2dd57"
      },
      "execution_count": null,
      "outputs": [
        {
          "output_type": "execute_result",
          "data": {
            "text/plain": [
              "'1 week(s) and 3 day(s).'"
            ],
            "application/vnd.google.colaboratory.intrinsic+json": {
              "type": "string"
            }
          },
          "metadata": {},
          "execution_count": 12
        }
      ]
    },
    {
      "cell_type": "code",
      "source": [
        "##Task_3\n",
        "\n",
        "\n",
        "numbers = [\n",
        "[34, 63, 88, 71, 29],\n",
        "[90, 78, 51, 27, 45],\n",
        "[63, 37, 85, 46, 22],\n",
        "[51, 22, 34, 11, 18]\n",
        "]\n",
        "Myfun=lambda num_list : sum(num_list) / len(num_list)\n",
        "averages = list(map(Myfun,numbers))\n",
        "print(averages)"
      ],
      "metadata": {
        "colab": {
          "base_uri": "https://localhost:8080/"
        },
        "id": "dpNIpNpMnNxL",
        "outputId": "fd5dca4f-f764-438a-f98f-9de8026949f7"
      },
      "execution_count": null,
      "outputs": [
        {
          "output_type": "stream",
          "name": "stdout",
          "text": [
            "[57.0, 58.2, 50.6, 27.2]\n"
          ]
        }
      ]
    },
    {
      "cell_type": "code",
      "source": [
        "##Task_4\n",
        "\n",
        "cities = [\"New York City\", \"Los Angeles\", \"Chicago\", \"MountainView\", \"Denver\", \"Boston\"]\n",
        "Myfun=lambda name : len(name) < 10\n",
        "short_cities = list(filter(Myfun, cities))\n",
        "print(short_cities)"
      ],
      "metadata": {
        "colab": {
          "base_uri": "https://localhost:8080/"
        },
        "id": "O3gpxBO4pxPM",
        "outputId": "38a5b649-dc51-4ffe-8446-7f9131cee871"
      },
      "execution_count": null,
      "outputs": [
        {
          "output_type": "stream",
          "name": "stdout",
          "text": [
            "['Chicago', 'Denver', 'Boston']\n"
          ]
        }
      ]
    },
    {
      "cell_type": "code",
      "source": [
        "##Task_5\n",
        "\n",
        "names_input = input(\"Enter a list of student names separated by commas: \")\n",
        "names = names_input.split(',')\n",
        "\n",
        "assignments_input = input(\"Enter a list of the number of missing assignments for each student separated by commas: \")\n",
        "assignments = [int(x) for x in assignments_input.split(',')]\n",
        "\n",
        "grades_input = input(\"Enter a list of grades for each student separated by commas: \")\n",
        "grades = [float(x) for x in grades_input.split(',')]\n",
        "\n",
        "message = \"Hi {},\\n\\nThis is a reminder that you have {} assignments left to submit before you can graduate. Your current grade is {} and can increase to {} if you submit all assignments before the due date.\\n\\n\"\n",
        "\n",
        "for name, assignment_count, grade in zip(names, assignments, grades):\n",
        "    potential_grade = grade + (2 * assignment_count)\n",
        "    print(message.format(name, assignment_count, grade, potential_grade))"
      ],
      "metadata": {
        "colab": {
          "base_uri": "https://localhost:8080/"
        },
        "id": "sZfQuZPkqg0o",
        "outputId": "32c1744f-0fc5-4b74-8abc-7828e428bb9e"
      },
      "execution_count": null,
      "outputs": [
        {
          "output_type": "stream",
          "name": "stdout",
          "text": [
            "Enter a list of student names separated by commas: Ayesha, Kubra, Shiza\n",
            "Enter a list of the number of missing assignments for each student separated by commas: 2, 3, 4\n",
            "Enter a list of grades for each student separated by commas: 2, 3\n",
            "Hi Ayesha,\n",
            "\n",
            "This is a reminder that you have 2 assignments left to submit before you can graduate. Your current grade is 2.0 and can increase to 6.0 if you submit all assignments before the due date.\n",
            "\n",
            "\n",
            "Hi  Kubra,\n",
            "\n",
            "This is a reminder that you have 3 assignments left to submit before you can graduate. Your current grade is 3.0 and can increase to 9.0 if you submit all assignments before the due date.\n",
            "\n",
            "\n"
          ]
        }
      ]
    },
    {
      "cell_type": "code",
      "source": [
        "##Task_6\n",
        "\n",
        "f = open('Biyo.txt', 'w')\n",
        "f.write(\"We're the knights of the round tableWe dance whenever we're able\")\n",
        "f.close()\n",
        "with open(\"file1.txt\") as song:\n",
        "  print(song.read(2))\n",
        "  print(song.read(8))\n",
        "  print(song.read())\n",
        "\n",
        "camelot_lines = []\n",
        "with open(\"file1.txt\") as f:\n",
        "    for line in f:\n",
        "      camelot_lines.append(line.strip())\n",
        "print(camelot_lines)\n"
      ],
      "metadata": {
        "id": "56JyREEYtDxN",
        "colab": {
          "base_uri": "https://localhost:8080/"
        },
        "outputId": "3ca6f8a6-aac9-4cf2-d7b4-40bf012ea1c5"
      },
      "execution_count": 6,
      "outputs": [
        {
          "output_type": "stream",
          "name": "stdout",
          "text": [
            "We\n",
            "'re the \n",
            "knights of the round tableWe dance whenever we're able\n",
            "[\"We're the knights of the round tableWe dance whenever we're able\"]\n"
          ]
        }
      ]
    },
    {
      "cell_type": "code",
      "source": [
        "##Task_7\n",
        "\n",
        "def create_cast_list(filename):\n",
        "    cast_list = []\n",
        "    with open(filename, 'r') as file:\n",
        "        for line in file:\n",
        "            actor_name, _ = line.strip().split(',', 1)\n",
        "            cast_list.append(actor_name);\n",
        "\n",
        "    return cast_list\n",
        "\n",
        "cast_list = create_cast_list('flying_circus_cast.txt')\n",
        "for actor in cast_list:\n",
        "    print(actor)"
      ],
      "metadata": {
        "colab": {
          "base_uri": "https://localhost:8080/"
        },
        "id": "QVG3rW9qty82",
        "outputId": "90440bb0-9ad1-494f-f6bb-80a9b86a8f77"
      },
      "execution_count": 24,
      "outputs": [
        {
          "output_type": "stream",
          "name": "stdout",
          "text": [
            "John Doe\n",
            "Jane Smith\n",
            "Michael Johnson\n",
            "Emily Brown\n",
            "David Lee\n",
            "Sarah Adams\n",
            "Chris Wilson\n",
            "Emma Turner\n",
            "Alex Carter\n",
            "Sophia White\n"
          ]
        }
      ]
    },
    {
      "cell_type": "markdown",
      "source": [
        "# New Section"
      ],
      "metadata": {
        "id": "7VfPRIoQOkmb"
      }
    }
  ]
}